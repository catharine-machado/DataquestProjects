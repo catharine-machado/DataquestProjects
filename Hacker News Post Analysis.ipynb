{
 "cells": [
  {
   "cell_type": "markdown",
   "metadata": {},
   "source": [
    "# Hacker News Post Analysis\n",
    "\n",
    "Hello, guys! This is my second data analysis project. Here we will analyze the *Ask HN* and *Show HN* posts, discover which type recieve more comments on average, and if posts created at a certain time recieve more comments on average.\n",
    "\n",
    "The data set we will be using can be found [here](https://www.kaggle.com/hacker-news/hacker-news-posts), and has approximately 20,000 rows. \n",
    "\n",
    "The columns in the data set are as follows: \n",
    "\n",
    "- `id`: the unique identifier from the Hacker News for the post\n",
    "- `title`: the title of the post\n",
    "- `url`: the URL that the post links to, if the post has a URL\n",
    "- `num-points`: the number of points the post acquired, calculated as the total number of upvotes minus the total number of downvotes. \n",
    "- `author`: the username of the person who submitted the post\n",
    "- `created_at`: the date and time at which the post was submitted"
   ]
  },
  {
   "cell_type": "markdown",
   "metadata": {},
   "source": [
    "Let's take a look at the first few rows of the data set:"
   ]
  },
  {
   "cell_type": "code",
   "execution_count": 1,
   "metadata": {},
   "outputs": [
    {
     "name": "stdout",
     "output_type": "stream",
     "text": [
      "['id', 'title', 'url', 'num_points', 'num_comments', 'author', 'created_at']\n",
      "\n",
      "\n",
      "['12224879', 'Interactive Dynamic Video', 'http://www.interactivedynamicvideo.com/', '386', '52', 'ne0phyte', '8/4/2016 11:52']\n",
      "\n",
      "\n",
      "['10975351', 'How to Use Open Source and Shut the Fuck Up at the Same Time', 'http://hueniverse.com/2016/01/26/how-to-use-open-source-and-shut-the-fuck-up-at-the-same-time/', '39', '10', 'josep2', '1/26/2016 19:30']\n",
      "\n",
      "\n",
      "['11964716', \"Florida DJs May Face Felony for April Fools' Water Joke\", 'http://www.thewire.com/entertainment/2013/04/florida-djs-april-fools-water-joke/63798/', '2', '1', 'vezycash', '6/23/2016 22:20']\n",
      "\n",
      "\n",
      "20101\n"
     ]
    }
   ],
   "source": [
    "open_file = open('/Catharine/DataSets/hacker_news_reduced.csv', encoding='utf8')\n",
    "from csv import reader\n",
    "read_file = reader(open_file)\n",
    "hn = list(read_file)\n",
    "\n",
    "for row in hn[:4]:\n",
    "    print(row)\n",
    "    print('\\n')\n",
    "    \n",
    "print(len(hn))"
   ]
  },
  {
   "cell_type": "markdown",
   "metadata": {},
   "source": [
    "As you can see, the data set contains the header on the first row. Let's separate the header and the actual data so we can further analyze it. "
   ]
  },
  {
   "cell_type": "code",
   "execution_count": 2,
   "metadata": {},
   "outputs": [
    {
     "name": "stdout",
     "output_type": "stream",
     "text": [
      "['12224879', 'Interactive Dynamic Video', 'http://www.interactivedynamicvideo.com/', '386', '52', 'ne0phyte', '8/4/2016 11:52']\n",
      "\n",
      "\n",
      "['10975351', 'How to Use Open Source and Shut the Fuck Up at the Same Time', 'http://hueniverse.com/2016/01/26/how-to-use-open-source-and-shut-the-fuck-up-at-the-same-time/', '39', '10', 'josep2', '1/26/2016 19:30']\n",
      "\n",
      "\n",
      "['11964716', \"Florida DJs May Face Felony for April Fools' Water Joke\", 'http://www.thewire.com/entertainment/2013/04/florida-djs-april-fools-water-joke/63798/', '2', '1', 'vezycash', '6/23/2016 22:20']\n",
      "\n",
      "\n",
      "['11919867', 'Technology ventures: From Idea to Enterprise', 'https://www.amazon.com/Technology-Ventures-Enterprise-Thomas-Byers/dp/0073523429', '3', '1', 'hswarna', '6/17/2016 0:01']\n",
      "\n",
      "\n",
      "['10301696', 'Note by Note: The Making of Steinway L1037 (2007)', 'http://www.nytimes.com/2007/11/07/movies/07stein.html?_r=0', '8', '2', 'walterbell', '9/30/2015 4:12']\n",
      "\n",
      "\n"
     ]
    }
   ],
   "source": [
    "header_hn = hn[:1]\n",
    "hn = hn[1:]\n",
    "\n",
    "for row in hn[:5]:\n",
    "    print(row)\n",
    "    print('\\n')"
   ]
  },
  {
   "cell_type": "markdown",
   "metadata": {},
   "source": [
    "### Cleaning the data\n",
    "\n",
    "The next step is to filter the data set for only the information we're looking for. Since we're interested in the `Ask HN` and `Show HN` posts, we will filter those out.\n",
    "\n",
    "The `ask_posts` data set will contain only the posts that begin with `Ask HN`, the `show_posts` data set will contain only the posts that begin with `Show_HN`, and finally the `other_posts` will contain the rest of the original data set."
   ]
  },
  {
   "cell_type": "code",
   "execution_count": 3,
   "metadata": {},
   "outputs": [],
   "source": [
    "ask_posts = []\n",
    "show_posts = []\n",
    "other_posts = []\n",
    "\n",
    "for row in hn:\n",
    "    title = row[1]\n",
    "    if title.lower().startswith('ask hn'):\n",
    "        ask_posts.append(row)\n",
    "    elif title.lower().startswith('show hn'):\n",
    "        show_posts.append(row)\n",
    "    else: \n",
    "        other_posts.append(row)"
   ]
  },
  {
   "cell_type": "markdown",
   "metadata": {},
   "source": [
    "### Analyzing the data\n",
    "\n",
    "Now that we have the data separated by type, we will analyze which type recieves the most comments on average."
   ]
  },
  {
   "cell_type": "code",
   "execution_count": 4,
   "metadata": {},
   "outputs": [
    {
     "name": "stdout",
     "output_type": "stream",
     "text": [
      "Average Comments on Ask Posts 14.038417431192661\n",
      "Average Comments on Show Posts 10.32\n"
     ]
    }
   ],
   "source": [
    "total_ask_comments = 0\n",
    "for row in ask_posts:\n",
    "    num_comments = int(row[4])\n",
    "    total_ask_comments += num_comments\n",
    "\n",
    "avg_ask_comments = total_ask_comments / len(ask_posts)\n",
    "print('Average Comments on Ask Posts', avg_ask_comments)\n",
    "\n",
    "\n",
    "total_show_comments = 0\n",
    "for row in show_posts:\n",
    "    num_comments = int(row[4])\n",
    "    total_show_comments += num_comments\n",
    "\n",
    "avg_show_comments = round(total_show_comments / len(show_posts),2)\n",
    "print('Average Comments on Show Posts',avg_show_comments)"
   ]
  },
  {
   "cell_type": "markdown",
   "metadata": {},
   "source": [
    "From the code above, we can see that Ask Posts recieve on average 14.03 comments per post while Show Posts recieve only 10.32.\n",
    "\n",
    "That being said, we will continue our analysis regarding only the Ask Posts. The next question we want to answer is: if posts created at a certain time recieve more comments on average. "
   ]
  },
  {
   "cell_type": "code",
   "execution_count": 5,
   "metadata": {},
   "outputs": [
    {
     "name": "stdout",
     "output_type": "stream",
     "text": [
      "Top 5 Hours for Ask Posts Comments\n",
      "15:00: 38.59 average comments per post\n",
      "02:00: 23.81 average comments per post\n",
      "20:00: 21.52 average comments per post\n",
      "16:00: 16.80 average comments per post\n",
      "21:00: 16.01 average comments per post\n"
     ]
    }
   ],
   "source": [
    "import datetime as dt\n",
    "result_list = [] ## list of lists\n",
    "\n",
    "for row in ask_posts:\n",
    "    result_list.append([row[6], int(row[4])])\n",
    "\n",
    "counts_by_hour = {} ## number of ask posts created during each hour of the day.\n",
    "comments_by_hour = {} ## corresponding number of comments ask posts created at each hour received.\n",
    "date_format= \"%m/%d/%Y %H:%M\"\n",
    "\n",
    "#running through result list to count posts by hour, and comments by hour\n",
    "for row in result_list:\n",
    "    date_time = row[0]\n",
    "    comment = row[1]\n",
    "    time = dt.datetime.strptime(date_time, date_format).strftime(\"%H\")\n",
    "    if time not in counts_by_hour:\n",
    "        counts_by_hour[time] = 1\n",
    "        comments_by_hour[time] = comment\n",
    "    else:\n",
    "        counts_by_hour[time] += 1\n",
    "        comments_by_hour[time] += comment\n",
    "\n",
    "# creating a list with the average number of comments per hour\n",
    "avg_by_hour = []\n",
    "\n",
    "for hour in comments_by_hour:\n",
    "    avg_by_hour.append([hour, comments_by_hour[hour]/counts_by_hour[hour]])\n",
    "    \n",
    "\n",
    "# ordering the averages from greatest to least\n",
    "swap_avg_by_hour = []\n",
    "for row in avg_by_hour:\n",
    "    swap_avg_by_hour.append([row[1],row[0]])\n",
    "\n",
    "sorted_swap = sorted(swap_avg_by_hour, reverse=True)\n",
    "\n",
    "# Getting top Five Results\n",
    "print(\"Top 5 Hours for Ask Posts Comments\")\n",
    "\n",
    "for row in sorted_swap[:5]:\n",
    "    avg = row[0] \n",
    "    time = dt.datetime.strptime(row[1], \"%H\")\n",
    "    time = time.strftime(\"%H:%M\")\n",
    "    print(\"{t}: {a:.2f} average comments per post\".format(t=time, a=avg))\n",
    "    \n",
    "\n",
    "    "
   ]
  },
  {
   "cell_type": "markdown",
   "metadata": {},
   "source": [
    "According to the information above, posting an *Ask HN* post at 15:00, 02:00, 20:00, 16:00, or 21:00 gives you a higher chance of getting comments. One thing to consider is the time zone. The [documentation](https://www.kaggle.com/hacker-news/hacker-news-posts) tells us the time zone is Eastern Time in the US. If I were to consider my time zone (BRT), I'd have to consider the times below: "
   ]
  },
  {
   "cell_type": "code",
   "execution_count": 6,
   "metadata": {},
   "outputs": [
    {
     "name": "stdout",
     "output_type": "stream",
     "text": [
      "18:00: 38.59 average comments per post\n",
      "05:00: 23.81 average comments per post\n",
      "23:00: 21.52 average comments per post\n",
      "19:00: 16.80 average comments per post\n",
      "00:00: 16.01 average comments per post\n"
     ]
    }
   ],
   "source": [
    "for row in sorted_swap[:5]:\n",
    "    avg = row[0] \n",
    "    time = dt.datetime.strptime(row[1], \"%H\")\n",
    "    time_plus_3h = time + dt.timedelta(hours = 3)\n",
    "    time_plus_3h = time_plus_3h.strftime(\"%H:%M\")\n",
    "    \n",
    "    print(\"{t}: {a:.2f} average comments per post\".format(t=time_plus_3h, a=avg))"
   ]
  },
  {
   "cell_type": "markdown",
   "metadata": {},
   "source": [
    "### Conclusion\n",
    "\n",
    "When we compare *Ask HN* and *Show HN* posts, we saw that *Ask HN* posts get more comments on average. Among the *Ask HN* posts, the time frames to create a post to get more comments would be at 15:00, 02:00, 20:00, 16:00, or 21:00, considering EST. That concludes this project! "
   ]
  },
  {
   "cell_type": "code",
   "execution_count": null,
   "metadata": {},
   "outputs": [],
   "source": []
  }
 ],
 "metadata": {
  "kernelspec": {
   "display_name": "Python 3",
   "language": "python",
   "name": "python3"
  },
  "language_info": {
   "codemirror_mode": {
    "name": "ipython",
    "version": 3
   },
   "file_extension": ".py",
   "mimetype": "text/x-python",
   "name": "python",
   "nbconvert_exporter": "python",
   "pygments_lexer": "ipython3",
   "version": "3.7.6"
  }
 },
 "nbformat": 4,
 "nbformat_minor": 4
}
